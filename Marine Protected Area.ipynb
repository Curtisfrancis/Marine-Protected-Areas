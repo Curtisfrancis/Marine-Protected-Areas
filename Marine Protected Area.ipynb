{
 "cells": [
  {
   "cell_type": "code",
   "execution_count": 17,
   "metadata": {},
   "outputs": [
    {
     "name": "stdout",
     "output_type": "stream",
     "text": [
      "4.814630123637067\n"
     ]
    }
   ],
   "source": [
    "import geopandas as gpd \n",
    "import os \n",
    "import matplotlib.pyplot as plt \n",
    "import earthpy as et\n",
    "import pandas as pd\n",
    "import csv \n",
    "import numpy as np \n",
    "import glob \n",
    "import datetime as dt\n",
    "\n",
    "v = []\n",
    "file = gpd.read_file('/home/servant/Desktop/Close Areas/mygeodata_3/JOBcir.-line.shp') \n",
    "g = file.bounds\n",
    "x1 = g['minx'][0]\n",
    "x2 = g['maxx'][0]\n",
    "y1 = g['miny'][0]\n",
    "y2 = g['maxy'][0]\n",
    "log = []\n",
    "lat = [] \n",
    "lc = []\n",
    "spd = []\n",
    "tm = []\n",
    "tme = [] \n",
    "FS = []\n",
    "df = pd.read_csv('/home/servant/Desktop/Close Areas/20160801_FishingVessels/204235000.csv')\n",
    "for x in df['dt_pos_utc']:\n",
    "    tm.append(x)\n",
    "for x in df['sog']:\n",
    "    spd.append(x)\n",
    "for x in df['longitud\n",
    "e']:\n",
    "    log.append(x)\n",
    "for x in df['latitude']:\n",
    "    lat.append(x)\n",
    "i = 0\n",
    "while i<len(log):\n",
    "    a = (log[i],lat[i]) \n",
    "    lc.append(a)\n",
    "    i += 1 \n",
    "fsn = min(SPD[1:])\n",
    "fsm = max(SPD[1:])\n",
    "for i in range(len(lc)):\n",
    "    if x1<lc[i][0]<x2 and y1<lc[i][1]<y2:\n",
    "        if fsn<=spd[i]<=fsm:\n",
    "            a = (df['mmsi'][0],df['vessel_name'][0],tm[i])\n",
    "            FS.append(a)\n",
    "            \n",
    "print(y1)"
   ]
  },
  {
   "cell_type": "code",
   "execution_count": 2,
   "metadata": {},
   "outputs": [
    {
     "name": "stdout",
     "output_type": "stream",
     "text": [
      "[22.949180327868852, 0.10000000000000053, 5.447026720033938]\n"
     ]
    }
   ],
   "source": [
    "def Speed(path):\n",
    "    c = [] \n",
    "    cd = [] \n",
    "    Mx = []\n",
    "    Mn = [] \n",
    "    Av = []\n",
    "    files = glob.glob(path + '/*.csv') \n",
    "    for file in files:\n",
    "        df = pd.read_csv(file)\n",
    "        col_list = ['sog']\n",
    "        for x in df['sog']:\n",
    "            c.append(x) \n",
    "        for x in c:\n",
    "            if x != 0.0:\n",
    "                cd.append(x)\n",
    "        M = max(cd)\n",
    "        m = min(cd)\n",
    "        v = sum(cd)/len(cd)\n",
    "        Mx.append(M)\n",
    "        Mn.append(m)\n",
    "        Av.append(v) \n",
    "\n",
    "    AMx = sum(Mx)/len(Mx)\n",
    "    AMn = sum(Mn)/len(Mn)\n",
    "    Avv = sum(Av)/len(Av) \n",
    "    return([AMx,AMn, Avv])  \n",
    "SPD = Speed(r'/home/servant/Desktop/Close Areas/20160801_FishingVessels')\n",
    "print(SPD) "
   ]
  },
  {
   "cell_type": "code",
   "execution_count": 63,
   "metadata": {},
   "outputs": [
    {
     "data": {
      "text/plain": [
       "'MONSERRATE          '"
      ]
     },
     "execution_count": 63,
     "metadata": {},
     "output_type": "execute_result"
    }
   ],
   "source": [
    "lc[i][0] and y1<lc[i][0]<y1"
   ]
  },
  {
   "cell_type": "code",
   "execution_count": 6,
   "metadata": {},
   "outputs": [
    {
     "name": "stdout",
     "output_type": "stream",
     "text": [
      "Empty DataFrame\n",
      "Columns: [GEOGCS[\"GCS_WGS_1984\", DATUM[\"D_WGS_1984\", SPHEROID[\"WGS_1984\", 6378137.0, 298.257223563]], PRIMEM[\"Greenwich\", 0.0], UNIT[\"Degree\", 0.0174532925199433]]]\n",
      "Index: []\n"
     ]
    }
   ],
   "source": [
    "c = []\n",
    "cd = [] \n",
    "df = pd.read_csv('/home/servant/Desktop/Close Areas/20160801_FishingVessels/204235000.csv') \n",
    "fil = pd.read_csv('/home/servant/Desktop/Close Areas/mygeodata_3/JOBcir.-line.prj') \n",
    "print(fil)"
   ]
  },
  {
   "cell_type": "code",
   "execution_count": null,
   "metadata": {},
   "outputs": [],
   "source": []
  }
 ],
 "metadata": {
  "kernelspec": {
   "display_name": "Python 3 (ipykernel)",
   "language": "python",
   "name": "python3"
  },
  "language_info": {
   "codemirror_mode": {
    "name": "ipython",
    "version": 3
   },
   "file_extension": ".py",
   "mimetype": "text/x-python",
   "name": "python",
   "nbconvert_exporter": "python",
   "pygments_lexer": "ipython3",
   "version": "3.10.0"
  }
 },
 "nbformat": 4,
 "nbformat_minor": 4
}
